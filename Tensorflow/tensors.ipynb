{
  "nbformat": 4,
  "nbformat_minor": 0,
  "metadata": {
    "colab": {
      "provenance": []
    },
    "kernelspec": {
      "name": "python3",
      "display_name": "Python 3"
    },
    "language_info": {
      "name": "python"
    }
  },
  "cells": [
    {
      "cell_type": "code",
      "execution_count": null,
      "metadata": {
        "id": "jpRdmL3rUhmA"
      },
      "outputs": [],
      "source": [
        "import tensorflow as tf\n",
        "import numpy as np"
      ]
    },
    {
      "cell_type": "markdown",
      "source": [
        "## Creating zero dimensional tensor\n",
        "A zero dimensional tensor is just like a number, it is not an array"
      ],
      "metadata": {
        "id": "8761VWaPU1en"
      }
    },
    {
      "cell_type": "code",
      "source": [
        "tensor_zero_d = tf.constant(4)\n",
        "print(tensor_zero_d)"
      ],
      "metadata": {
        "colab": {
          "base_uri": "https://localhost:8080/"
        },
        "id": "902fThVMUvxj",
        "outputId": "eb85611b-3370-4741-ae86-912b3d8460a1"
      },
      "execution_count": null,
      "outputs": [
        {
          "output_type": "stream",
          "name": "stdout",
          "text": [
            "tf.Tensor(4, shape=(), dtype=int32)\n"
          ]
        }
      ]
    },
    {
      "cell_type": "markdown",
      "source": [
        "## 1 dimensional tensor"
      ],
      "metadata": {
        "id": "XF2Q9BfhVKyM"
      }
    },
    {
      "cell_type": "code",
      "source": [
        "tensor_one_d = tf.constant([2, 9, 1])\n",
        "print(tensor_one_d)"
      ],
      "metadata": {
        "colab": {
          "base_uri": "https://localhost:8080/"
        },
        "id": "TsyZbKJ5VHKe",
        "outputId": "0bcdcebc-33e4-4218-c6df-c16f6bfd67ea"
      },
      "execution_count": null,
      "outputs": [
        {
          "output_type": "stream",
          "name": "stdout",
          "text": [
            "tf.Tensor([2 9 1], shape=(3,), dtype=int32)\n"
          ]
        }
      ]
    },
    {
      "cell_type": "markdown",
      "source": [
        "## 2D tensor"
      ],
      "metadata": {
        "id": "3zdjVi7bVvGs"
      }
    },
    {
      "cell_type": "code",
      "source": [
        "tensor_two_d = tf.constant([\n",
        "    [1, 2, 0],\n",
        "    [2, 5, -1],\n",
        "    [1, 5, 6],\n",
        "    [2, 3, 8]\n",
        "])\n",
        "print(tensor_two_d)"
      ],
      "metadata": {
        "colab": {
          "base_uri": "https://localhost:8080/"
        },
        "id": "gEmNFWQMVxEV",
        "outputId": "43f2473a-4115-4083-fa19-f8139ead94b4"
      },
      "execution_count": null,
      "outputs": [
        {
          "output_type": "stream",
          "name": "stdout",
          "text": [
            "tf.Tensor(\n",
            "[[ 1  2  0]\n",
            " [ 2  5 -1]\n",
            " [ 1  5  6]\n",
            " [ 2  3  8]], shape=(4, 3), dtype=int32)\n"
          ]
        }
      ]
    },
    {
      "cell_type": "markdown",
      "source": [
        "## 3D tensors"
      ],
      "metadata": {
        "id": "h_GKXCQ5WGog"
      }
    },
    {
      "cell_type": "code",
      "source": [
        "tensor_three_d = tf.constant([\n",
        "    [[1, 2, 0],\n",
        "    [2, 5, -1]],\n",
        "\n",
        "    [[1, 5, 6],\n",
        "    [2, 3, 8]],\n",
        "\n",
        "    [[5, 3, 7],\n",
        "     [6, 3, 6]],\n",
        "\n",
        "    [[4, 7, 2],\n",
        "     [6, 2, 5]]\n",
        "])\n",
        "print(tensor_three_d)"
      ],
      "metadata": {
        "colab": {
          "base_uri": "https://localhost:8080/"
        },
        "id": "7NDQzJ6jWIUB",
        "outputId": "9d9a29aa-85d5-4ee4-a638-2636da243f4d"
      },
      "execution_count": null,
      "outputs": [
        {
          "output_type": "stream",
          "name": "stdout",
          "text": [
            "tf.Tensor(\n",
            "[[[ 1  2  0]\n",
            "  [ 2  5 -1]]\n",
            "\n",
            " [[ 1  5  6]\n",
            "  [ 2  3  8]]\n",
            "\n",
            " [[ 5  3  7]\n",
            "  [ 6  3  6]]\n",
            "\n",
            " [[ 4  7  2]\n",
            "  [ 6  2  5]]], shape=(4, 2, 3), dtype=int32)\n"
          ]
        }
      ]
    },
    {
      "cell_type": "code",
      "source": [
        "tensor_two_d.shape"
      ],
      "metadata": {
        "colab": {
          "base_uri": "https://localhost:8080/"
        },
        "id": "fM28LVDqXMN8",
        "outputId": "e0ddddc8-0ee5-48b1-9546-794390786bde"
      },
      "execution_count": null,
      "outputs": [
        {
          "output_type": "execute_result",
          "data": {
            "text/plain": [
              "TensorShape([4, 3])"
            ]
          },
          "metadata": {},
          "execution_count": 13
        }
      ]
    },
    {
      "cell_type": "code",
      "source": [
        "tensor_three_d.ndim"
      ],
      "metadata": {
        "colab": {
          "base_uri": "https://localhost:8080/"
        },
        "id": "5ZqHVmUbXTe6",
        "outputId": "dd2ac9fa-77c2-4528-ed95-6c8dd2316f25"
      },
      "execution_count": null,
      "outputs": [
        {
          "output_type": "execute_result",
          "data": {
            "text/plain": [
              "3"
            ]
          },
          "metadata": {},
          "execution_count": 14
        }
      ]
    },
    {
      "cell_type": "markdown",
      "source": [
        "# 4D tensors"
      ],
      "metadata": {
        "id": "Yx3SOXqrX3LG"
      }
    },
    {
      "cell_type": "code",
      "source": [
        "tensor_4d = tf.constant([\n",
        "    [\n",
        "        [[1,2], [4, 32]],\n",
        "        [[43, 123], [54, 3]]\n",
        "    ],\n",
        "    [\n",
        "        [[65, 24], [78, 98]],\n",
        "        [[1, 7], [0, 2]]\n",
        "    ]\n",
        "])"
      ],
      "metadata": {
        "id": "tAPdV8O_X5KV"
      },
      "execution_count": null,
      "outputs": []
    },
    {
      "cell_type": "code",
      "source": [
        "tensor_4d.ndim"
      ],
      "metadata": {
        "colab": {
          "base_uri": "https://localhost:8080/"
        },
        "id": "_-1w5N9vYRIf",
        "outputId": "ef49e325-3985-416a-f1fe-8786fdaa894a"
      },
      "execution_count": null,
      "outputs": [
        {
          "output_type": "execute_result",
          "data": {
            "text/plain": [
              "4"
            ]
          },
          "metadata": {},
          "execution_count": 4
        }
      ]
    },
    {
      "cell_type": "markdown",
      "source": [
        "# Changing our data type"
      ],
      "metadata": {
        "id": "ATVjJPq1jc70"
      }
    },
    {
      "cell_type": "code",
      "source": [
        "tensor_1_d = tf.constant([2,0,-3,5,95], dtype=tf.float32)\n",
        "print(tensor_1_d)"
      ],
      "metadata": {
        "colab": {
          "base_uri": "https://localhost:8080/"
        },
        "id": "Cim-jUqmjfZ9",
        "outputId": "647dead7-ec6d-428c-abe6-815dcad9f17e"
      },
      "execution_count": null,
      "outputs": [
        {
          "output_type": "stream",
          "name": "stdout",
          "text": [
            "tf.Tensor([ 2.  0. -3.  5. 95.], shape=(5,), dtype=float32)\n"
          ]
        }
      ]
    },
    {
      "cell_type": "markdown",
      "source": [
        "# float16 takes less memories location for storing tensors compared to float32 upwards"
      ],
      "metadata": {
        "id": "InsOQqbqj9-s"
      }
    },
    {
      "cell_type": "code",
      "source": [
        "tensor_1_d = tf.constant([2.2,0,-3.0,5.,95], dtype=tf.float16)\n",
        "print(tensor_1_d)"
      ],
      "metadata": {
        "colab": {
          "base_uri": "https://localhost:8080/"
        },
        "id": "rcvJFSclj8cZ",
        "outputId": "51fef251-26d8-4fab-c0a0-9bbf134475a8"
      },
      "execution_count": null,
      "outputs": [
        {
          "output_type": "stream",
          "name": "stdout",
          "text": [
            "tf.Tensor([ 2.2  0.  -3.   5.  95. ], shape=(5,), dtype=float16)\n"
          ]
        }
      ]
    },
    {
      "cell_type": "markdown",
      "source": [
        "# We can convert a float type tensor to an integer type using the tf.cast method"
      ],
      "metadata": {
        "id": "7GrYCBrbk8ZV"
      }
    },
    {
      "cell_type": "code",
      "source": [
        "casted_tensor = tf.cast(tensor_1_d, dtype=tf.int16)\n",
        "casted_tensor"
      ],
      "metadata": {
        "colab": {
          "base_uri": "https://localhost:8080/"
        },
        "id": "x-jpMPrmlFQD",
        "outputId": "8c598797-5241-443b-f1cd-b026f6775ba6"
      },
      "execution_count": null,
      "outputs": [
        {
          "output_type": "execute_result",
          "data": {
            "text/plain": [
              "<tf.Tensor: shape=(5,), dtype=int16, numpy=array([ 2,  0, -3,  5, 95], dtype=int16)>"
            ]
          },
          "metadata": {},
          "execution_count": 9
        }
      ]
    },
    {
      "cell_type": "code",
      "source": [
        "#  We can also cast our tensor into a boolean and non zero element would have the same value and zero elements will have the same val\n",
        "casted_tensor_bool = tf.cast(tensor_1_d, dtype=tf.bool)\n",
        "casted_tensor_bool"
      ],
      "metadata": {
        "colab": {
          "base_uri": "https://localhost:8080/"
        },
        "id": "rVU9RJxv8gnU",
        "outputId": "2746122e-8920-47be-aff7-e84518442799"
      },
      "execution_count": null,
      "outputs": [
        {
          "output_type": "execute_result",
          "data": {
            "text/plain": [
              "<tf.Tensor: shape=(5,), dtype=bool, numpy=array([ True, False,  True,  True,  True])>"
            ]
          },
          "metadata": {},
          "execution_count": 4
        }
      ]
    },
    {
      "cell_type": "code",
      "source": [
        "tensor_bool = tf.constant([False, True, False])\n",
        "tensor_bool"
      ],
      "metadata": {
        "colab": {
          "base_uri": "https://localhost:8080/"
        },
        "id": "vO3EYHU-89wB",
        "outputId": "989aca5a-ff33-4e64-9753-d1fcc6c56880"
      },
      "execution_count": null,
      "outputs": [
        {
          "output_type": "execute_result",
          "data": {
            "text/plain": [
              "<tf.Tensor: shape=(3,), dtype=bool, numpy=array([False,  True, False])>"
            ]
          },
          "metadata": {},
          "execution_count": 5
        }
      ]
    },
    {
      "cell_type": "code",
      "source": [
        "tensor_string = tf.constant(['Hello World', 'Noooo'])\n",
        "tensor_string"
      ],
      "metadata": {
        "colab": {
          "base_uri": "https://localhost:8080/"
        },
        "id": "D5Qh-ftR9GJZ",
        "outputId": "0981a443-6be6-4512-f69e-7a7a97bfe1d3"
      },
      "execution_count": null,
      "outputs": [
        {
          "output_type": "execute_result",
          "data": {
            "text/plain": [
              "<tf.Tensor: shape=(2,), dtype=string, numpy=array([b'Hello World', b'Noooo'], dtype=object)>"
            ]
          },
          "metadata": {},
          "execution_count": 7
        }
      ]
    },
    {
      "cell_type": "markdown",
      "source": [
        "# Converting Numpy array into a tensor"
      ],
      "metadata": {
        "id": "SyRBBOa39Lrx"
      }
    },
    {
      "cell_type": "code",
      "source": [
        "import numpy as np"
      ],
      "metadata": {
        "id": "wyDi2G379Utb"
      },
      "execution_count": null,
      "outputs": []
    },
    {
      "cell_type": "code",
      "source": [
        "np_array = np.array([1,2,4])\n",
        "np_array"
      ],
      "metadata": {
        "colab": {
          "base_uri": "https://localhost:8080/"
        },
        "id": "hhPxEfgb9ZD4",
        "outputId": "259891fd-038e-44ae-a50e-bd6020ef2846"
      },
      "execution_count": null,
      "outputs": [
        {
          "output_type": "execute_result",
          "data": {
            "text/plain": [
              "array([1, 2, 4])"
            ]
          },
          "metadata": {},
          "execution_count": 9
        }
      ]
    },
    {
      "cell_type": "code",
      "source": [
        "converted_tensor = tf.convert_to_tensor(np_array)\n",
        "print(converted_tensor)"
      ],
      "metadata": {
        "colab": {
          "base_uri": "https://localhost:8080/"
        },
        "id": "Y0as8Otq9eLL",
        "outputId": "4501fb5b-5284-4ac6-daac-7cadbc8e2fd7"
      },
      "execution_count": null,
      "outputs": [
        {
          "output_type": "stream",
          "name": "stdout",
          "text": [
            "tf.Tensor([1 2 4], shape=(3,), dtype=int64)\n"
          ]
        }
      ]
    },
    {
      "cell_type": "markdown",
      "source": [
        "# The Eye method is used to construct an identity matrix or a batch of matrices"
      ],
      "metadata": {
        "id": "tcxYLI9I_k7N"
      }
    },
    {
      "cell_type": "code",
      "source": [
        "eye_tensor = tf.eye(\n",
        "    3,\n",
        "    num_columns=None,\n",
        "    batch_shape=None,\n",
        "    dtype=tf.dtypes.float32,\n",
        "    name=None\n",
        ")\n",
        "eye_tensor"
      ],
      "metadata": {
        "colab": {
          "base_uri": "https://localhost:8080/"
        },
        "id": "IEePJzGQ_sqw",
        "outputId": "6cc495ad-b624-482f-a120-7cc65b703645"
      },
      "execution_count": null,
      "outputs": [
        {
          "output_type": "execute_result",
          "data": {
            "text/plain": [
              "<tf.Tensor: shape=(3, 3), dtype=float32, numpy=\n",
              "array([[1., 0., 0.],\n",
              "       [0., 1., 0.],\n",
              "       [0., 0., 1.]], dtype=float32)>"
            ]
          },
          "metadata": {},
          "execution_count": 12
        }
      ]
    },
    {
      "cell_type": "code",
      "source": [
        "eye_tensor = tf.eye(\n",
        "    3,\n",
        "    num_columns=None,\n",
        "    batch_shape=None,\n",
        "    dtype=tf.dtypes.bool,\n",
        "    name=None\n",
        ")\n",
        "eye_tensor"
      ],
      "metadata": {
        "colab": {
          "base_uri": "https://localhost:8080/"
        },
        "id": "tt8zZGs3Pzkl",
        "outputId": "f9ceadf8-75bb-43f5-f57b-00975b2fd6c1"
      },
      "execution_count": null,
      "outputs": [
        {
          "output_type": "execute_result",
          "data": {
            "text/plain": [
              "<tf.Tensor: shape=(3, 3), dtype=bool, numpy=\n",
              "array([[ True, False, False],\n",
              "       [False,  True, False],\n",
              "       [False, False,  True]])>"
            ]
          },
          "metadata": {},
          "execution_count": 5
        }
      ]
    },
    {
      "cell_type": "code",
      "source": [
        "eye_tensor = tf.eye(\n",
        "    5,\n",
        "    num_columns=5,\n",
        "    batch_shape=[2, 2],\n",
        "    dtype=tf.dtypes.float16,\n",
        "    name=None\n",
        ")\n",
        "eye_tensor"
      ],
      "metadata": {
        "colab": {
          "base_uri": "https://localhost:8080/"
        },
        "id": "J7B4zu3tRcQ1",
        "outputId": "6221fb74-c87c-4b5d-ff90-56f5dc3f8d00"
      },
      "execution_count": null,
      "outputs": [
        {
          "output_type": "execute_result",
          "data": {
            "text/plain": [
              "<tf.Tensor: shape=(2, 2, 5, 5), dtype=float16, numpy=\n",
              "array([[[[1., 0., 0., 0., 0.],\n",
              "         [0., 1., 0., 0., 0.],\n",
              "         [0., 0., 1., 0., 0.],\n",
              "         [0., 0., 0., 1., 0.],\n",
              "         [0., 0., 0., 0., 1.]],\n",
              "\n",
              "        [[1., 0., 0., 0., 0.],\n",
              "         [0., 1., 0., 0., 0.],\n",
              "         [0., 0., 1., 0., 0.],\n",
              "         [0., 0., 0., 1., 0.],\n",
              "         [0., 0., 0., 0., 1.]]],\n",
              "\n",
              "\n",
              "       [[[1., 0., 0., 0., 0.],\n",
              "         [0., 1., 0., 0., 0.],\n",
              "         [0., 0., 1., 0., 0.],\n",
              "         [0., 0., 0., 1., 0.],\n",
              "         [0., 0., 0., 0., 1.]],\n",
              "\n",
              "        [[1., 0., 0., 0., 0.],\n",
              "         [0., 1., 0., 0., 0.],\n",
              "         [0., 0., 1., 0., 0.],\n",
              "         [0., 0., 0., 1., 0.],\n",
              "         [0., 0., 0., 0., 1.]]]], dtype=float16)>"
            ]
          },
          "metadata": {},
          "execution_count": 7
        }
      ]
    },
    {
      "cell_type": "code",
      "source": [
        "fill_tensor = tf.fill(\n",
        "    [1, 3, 4],  5, name=None, layout=None\n",
        ")\n",
        "fill_tensor"
      ],
      "metadata": {
        "colab": {
          "base_uri": "https://localhost:8080/"
        },
        "id": "ZC0Q2gxaSj9o",
        "outputId": "237ca292-77fa-40b8-afe3-5050f8b958f5"
      },
      "execution_count": null,
      "outputs": [
        {
          "output_type": "execute_result",
          "data": {
            "text/plain": [
              "<tf.Tensor: shape=(1, 3, 4), dtype=int32, numpy=\n",
              "array([[[5, 5, 5, 5],\n",
              "        [5, 5, 5, 5],\n",
              "        [5, 5, 5, 5]]], dtype=int32)>"
            ]
          },
          "metadata": {},
          "execution_count": 9
        }
      ]
    },
    {
      "cell_type": "code",
      "source": [
        "ones_tensor = tf.ones(\n",
        "    [2, 3, 4],\n",
        "    dtype=tf.dtypes.float16,\n",
        "    name=None,\n",
        "    layout=None\n",
        ")\n",
        "ones_tensor"
      ],
      "metadata": {
        "colab": {
          "base_uri": "https://localhost:8080/"
        },
        "id": "3LQQUKMOS-Sa",
        "outputId": "321afdfa-9a4f-4f67-d2d9-45064360dcc7"
      },
      "execution_count": null,
      "outputs": [
        {
          "output_type": "execute_result",
          "data": {
            "text/plain": [
              "<tf.Tensor: shape=(2, 3, 4), dtype=float16, numpy=\n",
              "array([[[1., 1., 1., 1.],\n",
              "        [1., 1., 1., 1.],\n",
              "        [1., 1., 1., 1.]],\n",
              "\n",
              "       [[1., 1., 1., 1.],\n",
              "        [1., 1., 1., 1.],\n",
              "        [1., 1., 1., 1.]]], dtype=float16)>"
            ]
          },
          "metadata": {},
          "execution_count": 12
        }
      ]
    },
    {
      "cell_type": "code",
      "source": [
        "ones_like = tf.ones_like(\n",
        "    fill_tensor, dtype=None, name=None, layout=None\n",
        ")\n",
        "ones_like"
      ],
      "metadata": {
        "colab": {
          "base_uri": "https://localhost:8080/"
        },
        "id": "N9SoO1ZcTuzD",
        "outputId": "c7088bc8-6e82-4569-e7e8-a1adb25ca5c5"
      },
      "execution_count": null,
      "outputs": [
        {
          "output_type": "execute_result",
          "data": {
            "text/plain": [
              "<tf.Tensor: shape=(1, 3, 4), dtype=int32, numpy=\n",
              "array([[[1, 1, 1, 1],\n",
              "        [1, 1, 1, 1],\n",
              "        [1, 1, 1, 1]]], dtype=int32)>"
            ]
          },
          "metadata": {},
          "execution_count": 14
        }
      ]
    },
    {
      "cell_type": "code",
      "source": [
        "zeros_tensor = tf.zeros(\n",
        "    [2,4],\n",
        "    dtype=tf.dtypes.int16,\n",
        "    name=None\n",
        ")\n",
        "zeros_tensor"
      ],
      "metadata": {
        "colab": {
          "base_uri": "https://localhost:8080/"
        },
        "id": "wZmLI92QUYX4",
        "outputId": "eecc7841-9c47-4155-c146-9627d0074a3d"
      },
      "execution_count": null,
      "outputs": [
        {
          "output_type": "execute_result",
          "data": {
            "text/plain": [
              "<tf.Tensor: shape=(2, 4), dtype=int16, numpy=\n",
              "array([[0, 0, 0, 0],\n",
              "       [0, 0, 0, 0]], dtype=int16)>"
            ]
          },
          "metadata": {},
          "execution_count": 16
        }
      ]
    },
    {
      "cell_type": "markdown",
      "source": [
        "# Two ways to get the shape of a tensor"
      ],
      "metadata": {
        "id": "kiL39YCIU6wk"
      }
    },
    {
      "cell_type": "code",
      "source": [
        "print(zeros_tensor.shape)"
      ],
      "metadata": {
        "colab": {
          "base_uri": "https://localhost:8080/"
        },
        "id": "CwWmACrcU_aZ",
        "outputId": "bd91702b-06f1-4835-e1b3-28f9280ac705"
      },
      "execution_count": null,
      "outputs": [
        {
          "output_type": "stream",
          "name": "stdout",
          "text": [
            "(2, 4)\n"
          ]
        }
      ]
    },
    {
      "cell_type": "code",
      "source": [
        "print(tf.shape(zeros_tensor))"
      ],
      "metadata": {
        "colab": {
          "base_uri": "https://localhost:8080/"
        },
        "id": "dvE9yr9yVE7E",
        "outputId": "cb77257e-4c1e-439d-8614-3eeadcd84bc0"
      },
      "execution_count": null,
      "outputs": [
        {
          "output_type": "stream",
          "name": "stdout",
          "text": [
            "tf.Tensor([2 4], shape=(2,), dtype=int32)\n"
          ]
        }
      ]
    },
    {
      "cell_type": "code",
      "source": [
        "tf.rank(zeros_tensor)"
      ],
      "metadata": {
        "colab": {
          "base_uri": "https://localhost:8080/"
        },
        "id": "JCDEoKSZV7lr",
        "outputId": "188087e2-5c46-49d7-a8ea-9267a9e69c8e"
      },
      "execution_count": null,
      "outputs": [
        {
          "output_type": "execute_result",
          "data": {
            "text/plain": [
              "<tf.Tensor: shape=(), dtype=int32, numpy=2>"
            ]
          },
          "metadata": {},
          "execution_count": 21
        }
      ]
    },
    {
      "cell_type": "code",
      "source": [
        "tf.size(zeros_tensor, out_type=tf.float32)"
      ],
      "metadata": {
        "colab": {
          "base_uri": "https://localhost:8080/"
        },
        "id": "eW47BE8dWHHg",
        "outputId": "4e7159be-a73e-4500-b33d-943ef18a4e83"
      },
      "execution_count": null,
      "outputs": [
        {
          "output_type": "execute_result",
          "data": {
            "text/plain": [
              "<tf.Tensor: shape=(), dtype=float32, numpy=8.0>"
            ]
          },
          "metadata": {},
          "execution_count": 23
        }
      ]
    },
    {
      "cell_type": "code",
      "source": [
        "print(tf.range(1, 6))"
      ],
      "metadata": {
        "colab": {
          "base_uri": "https://localhost:8080/"
        },
        "id": "PDBkWaSGIkrN",
        "outputId": "53b32a1f-ca8c-4fd0-b020-7aa7faf54d69"
      },
      "execution_count": null,
      "outputs": [
        {
          "output_type": "stream",
          "name": "stdout",
          "text": [
            "tf.Tensor([1 2 3 4 5], shape=(5,), dtype=int32)\n"
          ]
        }
      ]
    },
    {
      "cell_type": "code",
      "source": [
        "random_tensor = tf.random.normal(\n",
        "    [3, 2],\n",
        "    mean=100.0,\n",
        "    stddev=1.0,\n",
        "    dtype=tf.dtypes.float32,\n",
        "    seed=None,\n",
        "    name=None\n",
        ")\n",
        "random_tensor"
      ],
      "metadata": {
        "colab": {
          "base_uri": "https://localhost:8080/"
        },
        "id": "9xxWnW5iXinY",
        "outputId": "f2afbbeb-aca4-4a08-dc77-71ac54811648"
      },
      "execution_count": null,
      "outputs": [
        {
          "output_type": "execute_result",
          "data": {
            "text/plain": [
              "<tf.Tensor: shape=(3, 2), dtype=float32, numpy=\n",
              "array([[102.48487 ,  99.27274 ],\n",
              "       [ 99.08806 ,  98.94915 ],\n",
              "       [ 98.571365,  99.58534 ]], dtype=float32)>"
            ]
          },
          "metadata": {},
          "execution_count": 25
        }
      ]
    },
    {
      "cell_type": "markdown",
      "source": [
        "# The  standard deviation in a normal distribution determines how much our values deviate from our mean"
      ],
      "metadata": {
        "id": "IgMo6ODqZ6cm"
      }
    },
    {
      "cell_type": "markdown",
      "source": [
        "# In a uniform distribution, all our values have a probability of being picked"
      ],
      "metadata": {
        "id": "5omuRpr0bTGX"
      }
    },
    {
      "cell_type": "code",
      "source": [
        "unform_tensor = tf.random.uniform(\n",
        "    [5, ],\n",
        "    minval=5,\n",
        "    maxval=6,\n",
        "    dtype=tf.dtypes.int32,\n",
        "    seed=None,\n",
        "    name=None\n",
        ")\n",
        "unform_tensor"
      ],
      "metadata": {
        "colab": {
          "base_uri": "https://localhost:8080/"
        },
        "id": "MlNmfRv8aQhV",
        "outputId": "1bbb1583-9685-472f-9452-b565f6af137f"
      },
      "execution_count": null,
      "outputs": [
        {
          "output_type": "execute_result",
          "data": {
            "text/plain": [
              "<tf.Tensor: shape=(5,), dtype=int32, numpy=array([5, 5, 5, 5, 5], dtype=int32)>"
            ]
          },
          "metadata": {},
          "execution_count": 31
        }
      ]
    },
    {
      "cell_type": "markdown",
      "source": [
        "# Using the set seed, we can create a reproducible sequence of tensors accross multiple calls"
      ],
      "metadata": {
        "id": "xvn-v7cNFyU1"
      }
    },
    {
      "cell_type": "code",
      "source": [
        "tf.random.set_seed(5)\n",
        "\n",
        "print(tf.random.uniform(shape=[3,], maxval=3, dtype=tf.int32, seed=10))\n",
        "print(tf.random.uniform(shape=[3,], maxval=3, dtype=tf.int32, seed=10))\n",
        "print(tf.random.uniform(shape=[3,], maxval=3, dtype=tf.int32, seed=10))\n",
        "print(tf.random.uniform(shape=[3,], maxval=3, dtype=tf.int32, seed=10))"
      ],
      "metadata": {
        "colab": {
          "base_uri": "https://localhost:8080/"
        },
        "id": "Jbkphu0MF9e9",
        "outputId": "7cacfdbf-3b8a-477e-8beb-a8033cb21df3"
      },
      "execution_count": null,
      "outputs": [
        {
          "output_type": "stream",
          "name": "stdout",
          "text": [
            "tf.Tensor([2 0 1], shape=(3,), dtype=int32)\n",
            "tf.Tensor([1 0 0], shape=(3,), dtype=int32)\n",
            "tf.Tensor([0 1 1], shape=(3,), dtype=int32)\n",
            "tf.Tensor([2 1 2], shape=(3,), dtype=int32)\n"
          ]
        }
      ]
    },
    {
      "cell_type": "code",
      "source": [
        "tf.random.set_seed(5)\n",
        "print(tf.random.uniform(shape=[3,], maxval=3, dtype=tf.int32, seed=10))\n",
        "print(tf.random.uniform(shape=[3,], maxval=3, dtype=tf.int32, seed=10))\n",
        "print(tf.random.uniform(shape=[3,], maxval=3, dtype=tf.int32, seed=10))\n",
        "print(tf.random.uniform(shape=[3,], maxval=3, dtype=tf.int32, seed=10))"
      ],
      "metadata": {
        "colab": {
          "base_uri": "https://localhost:8080/"
        },
        "id": "GfxSsJxfHHth",
        "outputId": "0395c20d-79bc-4d73-e67f-e0e22c040ba4"
      },
      "execution_count": null,
      "outputs": [
        {
          "output_type": "stream",
          "name": "stdout",
          "text": [
            "tf.Tensor([2 0 1], shape=(3,), dtype=int32)\n",
            "tf.Tensor([1 0 0], shape=(3,), dtype=int32)\n",
            "tf.Tensor([0 1 1], shape=(3,), dtype=int32)\n",
            "tf.Tensor([2 1 2], shape=(3,), dtype=int32)\n"
          ]
        }
      ]
    },
    {
      "cell_type": "markdown",
      "source": [
        "# INdexing"
      ],
      "metadata": {
        "id": "t9UqJ8KtIAZv"
      }
    },
    {
      "cell_type": "code",
      "source": [
        "tensor_indexed = tf.constant([3,6,5,3,6,66,7])\n",
        "tensor_indexed[4:6]\n",
        "# skip by 2\n",
        "print(tensor_indexed[1:6:2])"
      ],
      "metadata": {
        "colab": {
          "base_uri": "https://localhost:8080/"
        },
        "id": "FwArHnSkIBom",
        "outputId": "40029517-aeab-4597-b4cc-84574ede1e33"
      },
      "execution_count": null,
      "outputs": [
        {
          "output_type": "stream",
          "name": "stdout",
          "text": [
            "tf.Tensor([ 6  3 66], shape=(3,), dtype=int32)\n"
          ]
        }
      ]
    },
    {
      "cell_type": "code",
      "source": [
        "tensor_two_d"
      ],
      "metadata": {
        "colab": {
          "base_uri": "https://localhost:8080/"
        },
        "id": "3MMXilP7JsH4",
        "outputId": "7d06b34d-a354-4850-f878-88ec2d29214d"
      },
      "execution_count": null,
      "outputs": [
        {
          "output_type": "execute_result",
          "data": {
            "text/plain": [
              "<tf.Tensor: shape=(4, 3), dtype=int32, numpy=\n",
              "array([[ 1,  2,  0],\n",
              "       [ 2,  5, -1],\n",
              "       [ 1,  5,  6],\n",
              "       [ 2,  3,  8]], dtype=int32)>"
            ]
          },
          "metadata": {},
          "execution_count": 18
        }
      ]
    },
    {
      "cell_type": "markdown",
      "source": [
        "# 2D indexing\n",
        "tensor_two_d[row, column]\n",
        "Its similar to using python array index on the shape of the tensor"
      ],
      "metadata": {
        "id": "yp3WV4Z9KJoP"
      }
    },
    {
      "cell_type": "code",
      "source": [
        "print(tensor_two_d[0:3, 0:2])"
      ],
      "metadata": {
        "colab": {
          "base_uri": "https://localhost:8080/"
        },
        "id": "F2DkSXP-J4xg",
        "outputId": "0d504317-562b-46f2-fb03-24f3d05b3445"
      },
      "execution_count": null,
      "outputs": [
        {
          "output_type": "stream",
          "name": "stdout",
          "text": [
            "tf.Tensor(\n",
            "[[1 2]\n",
            " [2 5]\n",
            " [1 5]], shape=(3, 2), dtype=int32)\n"
          ]
        }
      ]
    },
    {
      "cell_type": "code",
      "source": [
        "print(tensor_two_d[0:3, :])"
      ],
      "metadata": {
        "colab": {
          "base_uri": "https://localhost:8080/"
        },
        "id": "UaWvgtm8KeOr",
        "outputId": "1882ccca-31c7-4559-c5bc-3e8166ea42a0"
      },
      "execution_count": null,
      "outputs": [
        {
          "output_type": "stream",
          "name": "stdout",
          "text": [
            "tf.Tensor(\n",
            "[[ 1  2  0]\n",
            " [ 2  5 -1]\n",
            " [ 1  5  6]], shape=(3, 3), dtype=int32)\n"
          ]
        }
      ]
    },
    {
      "cell_type": "code",
      "source": [
        "# The spread operator also means picking up all the indexes\n",
        "print(tensor_two_d[..., 1])"
      ],
      "metadata": {
        "colab": {
          "base_uri": "https://localhost:8080/"
        },
        "id": "ChqUamP7LZvK",
        "outputId": "83b395b3-eef4-42dc-c6f3-051fca11d603"
      },
      "execution_count": null,
      "outputs": [
        {
          "output_type": "stream",
          "name": "stdout",
          "text": [
            "tf.Tensor([2 5 5 3], shape=(4,), dtype=int32)\n"
          ]
        }
      ]
    },
    {
      "cell_type": "markdown",
      "source": [
        "# 3D  Indexing\n",
        "batch size, row, column\n",
        "z, y, x"
      ],
      "metadata": {
        "id": "VU9O3MHaL9hi"
      }
    },
    {
      "cell_type": "code",
      "source": [
        "tensor_three_d"
      ],
      "metadata": {
        "colab": {
          "base_uri": "https://localhost:8080/"
        },
        "id": "DQF-IXEwMBa3",
        "outputId": "f317a2b9-4e7a-4f96-d27a-f8eef5a319b8"
      },
      "execution_count": null,
      "outputs": [
        {
          "output_type": "execute_result",
          "data": {
            "text/plain": [
              "<tf.Tensor: shape=(4, 2, 3), dtype=int32, numpy=\n",
              "array([[[ 1,  2,  0],\n",
              "        [ 2,  5, -1]],\n",
              "\n",
              "       [[ 1,  5,  6],\n",
              "        [ 2,  3,  8]],\n",
              "\n",
              "       [[ 5,  3,  7],\n",
              "        [ 6,  3,  6]],\n",
              "\n",
              "       [[ 4,  7,  2],\n",
              "        [ 6,  2,  5]]], dtype=int32)>"
            ]
          },
          "metadata": {},
          "execution_count": 23
        }
      ]
    },
    {
      "cell_type": "code",
      "source": [
        "print(tensor_three_d[0, :, ...])"
      ],
      "metadata": {
        "colab": {
          "base_uri": "https://localhost:8080/"
        },
        "id": "jLebEgD_MEsy",
        "outputId": "3dc028a8-8303-4932-da31-0982f5b276a8"
      },
      "execution_count": null,
      "outputs": [
        {
          "output_type": "stream",
          "name": "stdout",
          "text": [
            "tf.Tensor(\n",
            "[[ 1  2  0]\n",
            " [ 2  5 -1]], shape=(2, 3), dtype=int32)\n"
          ]
        }
      ]
    },
    {
      "cell_type": "markdown",
      "source": [
        "# tf.math"
      ],
      "metadata": {
        "id": "uzq0YaVuNTkM"
      }
    },
    {
      "cell_type": "code",
      "source": [
        "x_abs = tf.constant([-2.25, 3.25])\n",
        "tf.abs(x_abs)"
      ],
      "metadata": {
        "colab": {
          "base_uri": "https://localhost:8080/"
        },
        "id": "QQbl0ZfSNxCM",
        "outputId": "d613de5a-faf5-4aad-eab7-b2a27ce6f060"
      },
      "execution_count": null,
      "outputs": [
        {
          "output_type": "execute_result",
          "data": {
            "text/plain": [
              "<tf.Tensor: shape=(2,), dtype=float32, numpy=array([2.25, 3.25], dtype=float32)>"
            ]
          },
          "metadata": {},
          "execution_count": 27
        }
      ]
    },
    {
      "cell_type": "markdown",
      "source": [
        "For a complex number a + by, its absolute value is computed as sqrt(a**2 + b**2)\n",
        "."
      ],
      "metadata": {
        "id": "FEqF31tzO5iE"
      }
    },
    {
      "cell_type": "code",
      "source": [
        "# complex number\n",
        "x = tf.constant([[-2.25 + 4.75j], [-3.25 + 5.75j]])\n",
        "tf.abs(x)"
      ],
      "metadata": {
        "colab": {
          "base_uri": "https://localhost:8080/"
        },
        "id": "XEWEDbvmPDom",
        "outputId": "e65ffbf2-8d9e-497d-dfb2-e1a4093975ad"
      },
      "execution_count": null,
      "outputs": [
        {
          "output_type": "execute_result",
          "data": {
            "text/plain": [
              "<tf.Tensor: shape=(2, 1), dtype=float64, numpy=\n",
              "array([[5.25594901],\n",
              "       [6.60492241]])>"
            ]
          },
          "metadata": {},
          "execution_count": 28
        }
      ]
    },
    {
      "cell_type": "markdown",
      "source": [
        "# Basic Arithmetic Operations"
      ],
      "metadata": {
        "id": "mVfd38ipPK3O"
      }
    },
    {
      "cell_type": "code",
      "source": [
        "x_1 = tf.constant([2, 3, 4, 5, 6, 45], dtype=tf.int32)\n",
        "x_2 = tf.constant([7, 1, 4, 52, 3, 5], dtype=tf.int32)\n",
        "print(tf.add(x_1, x_2))\n",
        "print(tf.multiply(x_1, x_2))\n",
        "print(tf.subtract(x_1, x_2))\n",
        "print(tf.divide(x_1, x_2))"
      ],
      "metadata": {
        "colab": {
          "base_uri": "https://localhost:8080/"
        },
        "id": "3K3sU7DyPLo5",
        "outputId": "4505e5d0-ffe3-451b-ea0f-c57b5d311a66"
      },
      "execution_count": null,
      "outputs": [
        {
          "output_type": "stream",
          "name": "stdout",
          "text": [
            "tf.Tensor([ 9  4  8 57  9 50], shape=(6,), dtype=int32)\n",
            "tf.Tensor([ 14   3  16 260  18 225], shape=(6,), dtype=int32)\n",
            "tf.Tensor([ -5   2   0 -47   3  40], shape=(6,), dtype=int32)\n",
            "tf.Tensor([0.28571429 3.         1.         0.09615385 2.         9.        ], shape=(6,), dtype=float64)\n"
          ]
        }
      ]
    },
    {
      "cell_type": "markdown",
      "source": [
        "## No nan division helps us handle exception like when dividing by 0"
      ],
      "metadata": {
        "id": "IC_nmPx1QeHb"
      }
    },
    {
      "cell_type": "code",
      "source": [
        "x_1 = tf.constant([4,2], dtype=tf.float32)\n",
        "x_2 = tf.constant([0,4], dtype=tf.float32)\n",
        "\n",
        "print(tf.math.divide_no_nan(x_1, x_2))"
      ],
      "metadata": {
        "colab": {
          "base_uri": "https://localhost:8080/"
        },
        "id": "BN7dYenAQiBi",
        "outputId": "725e0d06-2381-473d-db84-32009b3be7d0"
      },
      "execution_count": null,
      "outputs": [
        {
          "output_type": "stream",
          "name": "stdout",
          "text": [
            "tf.Tensor([0.  0.5], shape=(2,), dtype=float32)\n"
          ]
        }
      ]
    },
    {
      "cell_type": "code",
      "source": [
        "x_1 = tf.constant([2, 3, 4, 5, 6, 45], dtype=tf.int32)\n",
        "x_2 = tf.constant([7], dtype=tf.int32)\n",
        "# the single val would be stretched x_2 addition shows x_2 os stretched to [7,7,7,7,7,7]\n",
        "x_2_stretched = tf.constant([7,7,7,7,7,7])\n",
        "print(tf.add(x_1, x_2))\n",
        "print(tf.add(x_1, x_2_stretched))"
      ],
      "metadata": {
        "colab": {
          "base_uri": "https://localhost:8080/"
        },
        "id": "QdVk080_SsIA",
        "outputId": "1a1c36a4-36ce-49e8-8017-b987939d4242"
      },
      "execution_count": null,
      "outputs": [
        {
          "output_type": "stream",
          "name": "stdout",
          "text": [
            "tf.Tensor([ 9 10 11 12 13 52], shape=(6,), dtype=int32)\n",
            "tf.Tensor([ 9 10 11 12 13 52], shape=(6,), dtype=int32)\n"
          ]
        }
      ]
    },
    {
      "cell_type": "code",
      "source": [
        "x_1 = tf.constant([[5,3,6,6,4,6]], dtype=tf.float32)\n",
        "x_2 = tf.constant([[5],[3],[6]], dtype=tf.float32)\n",
        "\n",
        "print(x_1.shape)\n",
        "print(x_2.shape)\n",
        "print(tf.math.multiply(x_1, x_2))"
      ],
      "metadata": {
        "colab": {
          "base_uri": "https://localhost:8080/"
        },
        "id": "UO7k2Mw4Ttoo",
        "outputId": "dbb579be-49ca-4edd-8fb5-0d221fc727eb"
      },
      "execution_count": null,
      "outputs": [
        {
          "output_type": "stream",
          "name": "stdout",
          "text": [
            "(1, 6)\n",
            "(3, 1)\n",
            "tf.Tensor(\n",
            "[[25. 15. 30. 30. 20. 30.]\n",
            " [15.  9. 18. 18. 12. 18.]\n",
            " [30. 18. 36. 36. 24. 36.]], shape=(3, 6), dtype=float32)\n"
          ]
        }
      ]
    },
    {
      "cell_type": "markdown",
      "source": [
        "## tf.math.argmax returns the index of the maximum element in the tensor while argmin returns the index of the min val"
      ],
      "metadata": {
        "id": "ffSQvu7jWWb5"
      }
    },
    {
      "cell_type": "markdown",
      "source": [
        "# Matrix Multiplication\n",
        "In matrix multiplication, the number of columns of the first matrix should be the same as the number of rows of the second matrix\n",
        "Our output becomes the number of the row of the first matrix by the number of column of the second matrix"
      ],
      "metadata": {
        "id": "FJnakpNSEbzE"
      }
    },
    {
      "cell_type": "code",
      "source": [
        "x_1 = tf.constant([[1, 2, 0], [3, 5, -1]])\n",
        "x_2 = tf.constant([[1, 2, 0, 2], [3, 5, -1, 2], [4, 5, 6, 0]])\n",
        "\n",
        "tf.linalg.matmul(\n",
        "    x_1,\n",
        "    x_2,\n",
        "    transpose_a=False,\n",
        "    transpose_b=False,\n",
        "    adjoint_a=False,\n",
        "    adjoint_b=False,\n",
        "    a_is_sparse=False,\n",
        "    b_is_sparse=False,\n",
        "    output_type=None,\n",
        "    name=None\n",
        ")"
      ],
      "metadata": {
        "colab": {
          "base_uri": "https://localhost:8080/"
        },
        "id": "FEAImh4dEK9v",
        "outputId": "8b12a4d0-efbd-4863-8b56-7cf365803c4c"
      },
      "execution_count": null,
      "outputs": [
        {
          "output_type": "execute_result",
          "data": {
            "text/plain": [
              "<tf.Tensor: shape=(2, 4), dtype=int32, numpy=\n",
              "array([[  7,  12,  -2,   6],\n",
              "       [ 14,  26, -11,  16]], dtype=int32)>"
            ]
          },
          "metadata": {},
          "execution_count": 5
        }
      ]
    },
    {
      "cell_type": "markdown",
      "source": [],
      "metadata": {
        "id": "oZlACx15E9Fr"
      }
    },
    {
      "cell_type": "markdown",
      "source": [
        "## Matrix multiplication can als  be done using the @ symbol"
      ],
      "metadata": {
        "id": "5pV33cl4GQ0v"
      }
    },
    {
      "cell_type": "code",
      "source": [
        "print(x_1@x_2)"
      ],
      "metadata": {
        "colab": {
          "base_uri": "https://localhost:8080/"
        },
        "id": "GJJPSC_VGUc0",
        "outputId": "c2755a6a-8ff6-410a-c2f5-e6d41765fdf2"
      },
      "execution_count": null,
      "outputs": [
        {
          "output_type": "stream",
          "name": "stdout",
          "text": [
            "tf.Tensor(\n",
            "[[  7  12  -2   6]\n",
            " [ 14  26 -11  16]], shape=(2, 4), dtype=int32)\n"
          ]
        }
      ]
    },
    {
      "cell_type": "markdown",
      "source": [
        "Tranpose of a matrix"
      ],
      "metadata": {
        "id": "ueMZIvEYGh4G"
      }
    },
    {
      "cell_type": "code",
      "source": [
        "print(tf.transpose(x_1))"
      ],
      "metadata": {
        "colab": {
          "base_uri": "https://localhost:8080/"
        },
        "id": "vr52_RKbGkhg",
        "outputId": "8f56afbe-22d0-48cf-b3e2-f26311ab5e34"
      },
      "execution_count": null,
      "outputs": [
        {
          "output_type": "stream",
          "name": "stdout",
          "text": [
            "tf.Tensor(\n",
            "[[ 1  3]\n",
            " [ 2  5]\n",
            " [ 0 -1]], shape=(3, 2), dtype=int32)\n"
          ]
        }
      ]
    },
    {
      "cell_type": "code",
      "source": [
        "print(x_2@tf.transpose(x_2))\n",
        "print(tf.linalg.matmul( x_2, x_2, transpose_a=False, transpose_b=True, adjoint_a=False, adjoint_b=False, a_is_sparse=False, b_is_sparse=False,\n",
        "output_type=None, name=None))"
      ],
      "metadata": {
        "colab": {
          "base_uri": "https://localhost:8080/"
        },
        "id": "Yj73zV3nJM4d",
        "outputId": "1f440340-0188-43fb-9bc9-e1728f44ceda"
      },
      "execution_count": null,
      "outputs": [
        {
          "output_type": "stream",
          "name": "stdout",
          "text": [
            "tf.Tensor(\n",
            "[[ 9 17 14]\n",
            " [17 39 31]\n",
            " [14 31 77]], shape=(3, 3), dtype=int32)\n",
            "tf.Tensor(\n",
            "[[ 9 17 14]\n",
            " [17 39 31]\n",
            " [14 31 77]], shape=(3, 3), dtype=int32)\n"
          ]
        }
      ]
    },
    {
      "cell_type": "code",
      "source": [
        "x_1 = tf.constant([\n",
        "    [1, 2, 0, 2],\n",
        "     [3, 5, -1, 2],\n",
        "      [4, 5, 6, 0]\n",
        "    ])\n",
        "x_2 = tf.constant([\n",
        "    [1, 2, 0, 2],\n",
        "     [3, 5, -1, 2],\n",
        "      [4, 5, 6, 0],\n",
        "    [4, 7, -2, 7]\n",
        "    ])\n",
        "\n",
        "print(x_1@x_2)"
      ],
      "metadata": {
        "colab": {
          "base_uri": "https://localhost:8080/"
        },
        "id": "cJW87KRGPt-A",
        "outputId": "22228d58-3242-4717-b16c-a63c55d24fac"
      },
      "execution_count": null,
      "outputs": [
        {
          "output_type": "stream",
          "name": "stdout",
          "text": [
            "tf.Tensor(\n",
            "[[ 15  26  -6  20]\n",
            " [ 22  40 -15  30]\n",
            " [ 43  63  31  18]], shape=(3, 4), dtype=int32)\n"
          ]
        }
      ]
    },
    {
      "cell_type": "code",
      "source": [
        "x_1 = tf.constant([\n",
        "    [[2, 0],\n",
        "    [2, 5]],\n",
        "\n",
        "    [[5, 6],\n",
        "    [2, 8]],\n",
        "\n",
        "    [[5, 7],\n",
        "     [3, 6]],\n",
        "\n",
        "    [[4, 2],\n",
        "     [2, 5]]\n",
        "])\n",
        "\n",
        "x_2 = tf.constant([\n",
        "    [[1, 2, 0],\n",
        "    [2, 5, -1]],\n",
        "\n",
        "    [[1, 5, 6],\n",
        "    [2, 3, 8]],\n",
        "\n",
        "    [[5, 3, 7],\n",
        "     [6, 3, 6]],\n",
        "\n",
        "    [[4, 7, 2],\n",
        "     [6, 2, 5]]\n",
        "])\n",
        "print(x_1@x_2)\n",
        "print(x_1[1]@x_2[1])"
      ],
      "metadata": {
        "colab": {
          "base_uri": "https://localhost:8080/"
        },
        "id": "wCaw-fB2QtAD",
        "outputId": "89e7ee76-4a78-4fcf-c959-07956314f742"
      },
      "execution_count": null,
      "outputs": [
        {
          "output_type": "stream",
          "name": "stdout",
          "text": [
            "tf.Tensor(\n",
            "[[[ 2  4  0]\n",
            "  [12 29 -5]]\n",
            "\n",
            " [[17 43 78]\n",
            "  [18 34 76]]\n",
            "\n",
            " [[67 36 77]\n",
            "  [51 27 57]]\n",
            "\n",
            " [[28 32 18]\n",
            "  [38 24 29]]], shape=(4, 2, 3), dtype=int32)\n",
            "tf.Tensor(\n",
            "[[17 43 78]\n",
            " [18 34 76]], shape=(2, 3), dtype=int32)\n"
          ]
        }
      ]
    },
    {
      "cell_type": "markdown",
      "source": [
        "# Sparse tensors are mostly made of zeros"
      ],
      "metadata": {
        "id": "Xt2v3SXNRggh"
      }
    },
    {
      "cell_type": "markdown",
      "source": [],
      "metadata": {
        "id": "JK9z8VR2YY1-"
      }
    },
    {
      "cell_type": "markdown",
      "source": [
        "# And so much more linear algebra functions can be performed in a tensor. We can check the tensorflow documentation or also watch the yt video https://www.youtube.com/watch?v=IA3WxTTPXqQ&t=8463s"
      ],
      "metadata": {
        "id": "qi0m9csTUIN1"
      }
    },
    {
      "cell_type": "markdown",
      "source": [],
      "metadata": {
        "id": "s95BMadxYe45"
      }
    }
  ]
}